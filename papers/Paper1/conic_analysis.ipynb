{
 "metadata": {
  "name": "",
  "signature": "sha256:575d16955a2196491ddba880b7d0ec7447e07b237bedbc2e9e68272b61bfe513"
 },
 "nbformat": 3,
 "nbformat_minor": 0,
 "worksheets": [
  {
   "cells": [
    {
     "cell_type": "heading",
     "level": 1,
     "metadata": {},
     "source": [
      "Testing Hyperbola and ellipse functions"
     ]
    },
    {
     "cell_type": "markdown",
     "metadata": {},
     "source": [
      "Parametric equations for conics:\n",
      "\\begin{align}\n",
      "x = a C(t) - x_0 \\\\\n",
      "y = b S (t)\n",
      "\\end{align}\n",
      "\n",
      "Where:\n",
      "\\begin{align}\n",
      "C(t) = \\cos t ~\\mathrm{if~ ellipse} \\\\\n",
      "C(t) = \\cosh t ~\\mathrm{if~ hyperbola} \\\\\n",
      "S(t) = \\sin t ~\\mathrm{if~ ellipse} \\\\\n",
      "S(t) = \\sinh t ~\\mathrm{if~ hyperbola}\\\\\n",
      "R_c = \\frac{b^2}{a}\\\\\n",
      "\\tan\\theta_c = \\frac{b}{a}\\\\\n",
      "a = \\frac{R_c}{\\tan^2\\theta_c} \\\\\n",
      "b = \\frac{R_c}{\\tan\\theta_c}\n",
      "\\end{align}\n",
      "$a$ takes (-) sign for hyperbolae"
     ]
    },
    {
     "cell_type": "code",
     "collapsed": false,
     "input": [
      "import numpy as np\n",
      "import matplotlib\n",
      "import matplotlib.pyplot as plt\n",
      "%matplotlib inline"
     ],
     "language": "python",
     "metadata": {},
     "outputs": [],
     "prompt_number": 2
    },
    {
     "cell_type": "code",
     "collapsed": false,
     "input": [
      "t = np.linspace(-np.pi,np.pi)\n",
      "beta = 0.01\n",
      "R0 = np.sqrt(beta)/(1+np.sqrt(beta))\n",
      "thce = 30\n",
      "thch = -30\n",
      "Rc = 1.2*R0\n",
      "ae = Rc/np.tan(np.radians(thce))**2\n",
      "ah = Rc/np.tan(np.radians(thch))**2\n",
      "be = Rc/np.tan(np.radians(thce))\n",
      "bh = Rc/np.tan(np.radians(thch))\n",
      "x0e = ae - R0\n",
      "x0h = -ah-R0"
     ],
     "language": "python",
     "metadata": {},
     "outputs": [],
     "prompt_number": 3
    },
    {
     "cell_type": "code",
     "collapsed": false,
     "input": [
      "xe,ye = ae*np.cos(t) -x0e,be*np.sin(t)\n",
      "plt.plot(xe,ye)\n",
      "plt.plot([0.0],[0.0],\"r*\")\n",
      "plt.plot([0,R0],[0,0],\"k-\",lw=2)\n",
      "plt.plot([-x0e,-x0e+ae],[0,0],\"k--\")\n",
      "plt.plot([-x0e,-x0e],[0,be],\"k--\")\n",
      "plt.plot(Rc*np.cos(np.linspace(-np.pi,np.pi))-Rc+R0,Rc*np.sin(np.linspace(-np.pi,np.pi)))\n",
      "m_as = -be/(ae)\n",
      "as_line = m_as*np.linspace(-0.5,0.5) +m_as*x0e+be\n",
      "plt.plot(np.linspace(-0.5,0.5),as_line, \"k:\")\n",
      "plt.xlim(-0.4,0.2)\n",
      "plt.ylim(-0.3,0.3)\n",
      "plt.grid()\n",
      "plt.gca().set_aspect(\"equal\",adjustable=\"box\")\n",
      "plt.xlabel(\"z/D\")\n",
      "plt.ylabel(\"r/D\")\n",
      "plt.savefig(\"ellipse_py.pdf\");"
     ],
     "language": "python",
     "metadata": {},
     "outputs": [
      {
       "metadata": {},
       "output_type": "display_data",
       "png": "[encoded data removed]",
       "text": [
        "<matplotlib.figure.Figure at 0x7f247fb66d30>"
       ]
      }
     ],
     "prompt_number": 4
    },
    {
     "cell_type": "code",
     "collapsed": false,
     "input": [
      "xh,yh = -ah*np.cosh(t) -x0h,bh*np.sinh(t)\n",
      "plt.plot(xh,yh)\n",
      "plt.plot([0.0],[0.0],\"r*\")\n",
      "plt.plot([0,R0],[0,0],\"k-\")\n",
      "plt.plot([-x0h,-x0h-ah],[0,0],\"k--\")\n",
      "plt.plot([R0,R0],[0,-bh],\"k--\")\n",
      "plt.plot(Rc*np.cos(np.linspace(-np.pi,np.pi))-Rc+R0,Rc*np.sin(np.linspace(-np.pi,np.pi)))\n",
      "m_as = bh/(ah)\n",
      "as_line = m_as*np.linspace(-0.5,0.5) -m_as*R0-bh\n",
      "plt.plot(np.linspace(-0.5,0.5),as_line, \"k:\")\n",
      "plt.xlim(-0.5,0.5)\n",
      "plt.ylim(-0.5,0.5)\n",
      "plt.grid()\n",
      "plt.gca().set_aspect(\"equal\",adjustable=\"box\")\n",
      "plt.xlabel(\"z/D\")\n",
      "plt.ylabel(\"r/D\")\n",
      "plt.savefig(\"hyperbola_py.pdf\");"
     ],
     "language": "python",
     "metadata": {},
     "outputs": [
      {
       "metadata": {},
       "output_type": "display_data",
       "png": "[encoded data removed]",
       "text": [
        "<matplotlib.figure.Figure at 0x7f247f7880f0>"
       ]
      }
     ],
     "prompt_number": 5
    },
    {
     "cell_type": "heading",
     "level": 2,
     "metadata": {},
     "source": [
      "$R_{90}$ for ellipse"
     ]
    },
    {
     "cell_type": "markdown",
     "metadata": {},
     "source": [
      "$t_{90}$ is such that:\n",
      "\\begin{align}\n",
      "x_{90} = a-R_0 = a\\cos t_{90} \\\\\n",
      "y_{90} = R_{90} = b\\sin t_{90} \\\\\n",
      "R_{90} = b\\left(1-\\frac{(R_0-a)^2}{a^2}\\right)\n",
      "\\end{align}"
     ]
    },
    {
     "cell_type": "heading",
     "level": 2,
     "metadata": {},
     "source": [
      "$R_{90}$ for hyperbola"
     ]
    },
    {
     "cell_type": "markdown",
     "metadata": {},
     "source": [
      "in this case:\n",
      "\\begin{align}\n",
      "x_{90} = a\\cosh t_{90} = a + R_0 \\\\\n",
      "y_{90} = R_{90} = b\\sinh t_{90} \\\\\n",
      "R_{90} = b\\left(1+\\frac{(R_0 + a)^2}{a^2}\\right)\n",
      "\\end{align}"
     ]
    },
    {
     "cell_type": "heading",
     "level": 2,
     "metadata": {},
     "source": [
      "$R_{90}$ general"
     ]
    },
    {
     "cell_type": "markdown",
     "metadata": {},
     "source": [
      "$R_{90} = b\\left(1 \\mp \\frac{(R_0 - a)^2}{a^2}\\right)$\n",
      "\n",
      "(-) for ellipse\n",
      "(+) for hyperbola"
     ]
    },
    {
     "cell_type": "code",
     "collapsed": false,
     "input": [],
     "language": "python",
     "metadata": {},
     "outputs": [],
     "prompt_number": 5
    }
   ],
   "metadata": {}
  }
 ]
}