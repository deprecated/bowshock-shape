{
 "metadata": {
  "name": "",
  "signature": "sha256:abc997497253c6a253f3b845cd834555b39e85338152660ad04b8172ed044b51"
 },
 "nbformat": 3,
 "nbformat_minor": 0,
 "worksheets": [
  {
   "cells": [
    {
     "cell_type": "heading",
     "level": 1,
     "metadata": {},
     "source": [
      "A vs $\\beta$"
     ]
    },
    {
     "cell_type": "code",
     "collapsed": false,
     "input": [
      "import json\n",
      "import numpy as np\n",
      "import matplotlib\n",
      "import lmfit\n",
      "import matplotlib.pyplot as plt\n",
      "%matplotlib inline"
     ],
     "language": "python",
     "metadata": {},
     "outputs": [],
     "prompt_number": 1
    },
    {
     "cell_type": "code",
     "collapsed": false,
     "input": [
      "data = json.load(open(\"r90-r0-in-3.0.json\"))"
     ],
     "language": "python",
     "metadata": {},
     "outputs": [],
     "prompt_number": 2
    },
    {
     "cell_type": "code",
     "collapsed": false,
     "input": [
      "def y(params,x,data):\n",
      "    y0=params[\"y0\"].value\n",
      "    h = params[\"h\"].value\n",
      "    d = params[\"d\"].value\n",
      "    c = np.exp(-h)\n",
      "    return y0*(np.exp(-h*x**d)-c)/(1-c)-data"
     ],
     "language": "python",
     "metadata": {},
     "outputs": [],
     "prompt_number": 9
    },
    {
     "cell_type": "code",
     "collapsed": false,
     "input": [
      "y0 = 0.635\n",
      "h=5.0\n",
      "d = 1.0\n",
      "x= np.linspace(0,.1,50)"
     ],
     "language": "python",
     "metadata": {},
     "outputs": [],
     "prompt_number": 17
    },
    {
     "cell_type": "code",
     "collapsed": false,
     "input": [
      "beta = np.array(data[\"proplyd\"].keys())\n",
      "betanum =[]\n",
      "A =[]\n",
      "q=[]\n",
      "for b in beta:\n",
      "    R0 = np.array(data[\"proplyd\"][b][\"R0\"])\n",
      "    R90 = np.array(data[\"proplyd\"][b][\"R90\"])\n",
      "    betanum.append(np.float64(b))\n",
      "    A.append(R0[0]/R90[0])\n",
      "    q.append(R0[0])\n",
      "q = np.array(q)    \n",
      "A = np.array(A)    \n",
      "betanum = np.array(betanum)   "
     ],
     "language": "python",
     "metadata": {},
     "outputs": [],
     "prompt_number": 21
    },
    {
     "cell_type": "code",
     "collapsed": false,
     "input": [
      "params = lmfit.Parameters()\n",
      "params.add(\"y0\",value=y0)\n",
      "params.add(\"h\",value=h)\n",
      "params.add(\"d\",value=d)\n",
      "result=lmfit.minimize(y,params,args=(betanum,A))"
     ],
     "language": "python",
     "metadata": {},
     "outputs": [],
     "prompt_number": 10
    },
    {
     "cell_type": "code",
     "collapsed": false,
     "input": [
      "plt.plot(betanum,A,\"b.\",label=\"data\")\n",
      "plt.plot(x,y(params,x,A)+A,\"r-\",label=\"fit\")\n",
      "plt.legend(loc=\"best\")\n",
      "plt.xlabel(r\"$\\beta$\")\n",
      "plt.ylabel(r\"1/A\")\n",
      "plt.title(r\"1/A vs $\\beta$\");"
     ],
     "language": "python",
     "metadata": {},
     "outputs": [
      {
       "metadata": {},
       "output_type": "display_data",
       "png": "[encoded data removed]",
       "text": [
        "<matplotlib.figure.Figure at 0x559ea90>"
       ]
      }
     ],
     "prompt_number": 28
    },
    {
     "cell_type": "code",
     "collapsed": false,
     "input": [
      " print \"y0={}\".format(params[\"y0\"].value)\n",
      " print \"h={}\".format(params[\"h\"].value)\n",
      " print \"d={}\".format(params[\"d\"].value)   "
     ],
     "language": "python",
     "metadata": {},
     "outputs": [
      {
       "output_type": "stream",
       "stream": "stdout",
       "text": [
        "y0=0.657153839679\n",
        "h=-2.15153618191\n",
        "d=0.280398768728\n"
       ]
      }
     ],
     "prompt_number": 14
    },
    {
     "cell_type": "code",
     "collapsed": false,
     "input": [
      "plt.plot(betanum,1./q,\"g.\",label=\"data\")\n",
      "plt.plot(x,((1+np.sqrt(x))/np.sqrt(x))*(43./40),label=\"fit\")\n",
      "plt.legend(loc=\"best\");"
     ],
     "language": "python",
     "metadata": {},
     "outputs": [
      {
       "metadata": {},
       "output_type": "display_data",
       "png": "[encoded data removed]",
       "text": [
        "<matplotlib.figure.Figure at 0x69e2e90>"
       ]
      }
     ],
     "prompt_number": 33
    },
    {
     "cell_type": "code",
     "collapsed": false,
     "input": [],
     "language": "python",
     "metadata": {},
     "outputs": [],
     "prompt_number": 25
    },
    {
     "cell_type": "code",
     "collapsed": false,
     "input": [],
     "language": "python",
     "metadata": {},
     "outputs": []
    }
   ],
   "metadata": {}
  }
 ]
}