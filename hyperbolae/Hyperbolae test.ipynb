{
 "metadata": {
  "name": "Hyperbolae test"
 },
 "nbformat": 3,
 "nbformat_minor": 0,
 "worksheets": [
  {
   "cells": [
    {
     "cell_type": "code",
     "collapsed": false,
     "input": [
      "import numpy as np"
     ],
     "language": "python",
     "outputs": []
    },
    {
     "cell_type": "code",
     "collapsed": false,
     "input": [
      "pylab.rcParams['figure.figsize'] = (16.0, 8.0)"
     ],
     "language": "python",
     "outputs": [],
     "prompt_number": 22
    },
    {
     "cell_type": "code",
     "collapsed": false,
     "input": [
      "def yhyperbol(x, th_inf=45.0):\n",
      "    tan_th = np.tan(np.radians(th_inf))\n",
      "    return (np.sqrt(1.0 + x**2*tan_th**2) - 1.0)/tan_th**2\n",
      "    \n",
      "def yparabol(x):\n",
      "    return 0.5*x**2\n",
      "\n",
      "def ycircle(x):\n",
      "    return 1.0 - np.sqrt(1.0 - x**2)\n",
      "\n",
      "\n",
      "def yconic_th(x, th_inf=45.0):\n",
      "    B = np.tan(np.radians(th_inf))\n",
      "    return yconic(x, B)\n",
      "\n",
      "\n",
      "def yconic(x, B=-1.0):\n",
      "    \"\"\"General conic section of axis ratio B=b/a\"\"\"\n",
      "    if B==0.0:\n",
      "        return 0.5*x**2\n",
      "    else:\n",
      "        s = np.sign(B)\n",
      "        return s*(1.0 - np.sqrt(1.0 - s*x**2*B**2))/B**2\n",
      "\n"
     ],
     "language": "python",
     "outputs": [],
     "prompt_number": "*"
    },
    {
     "cell_type": "code",
     "collapsed": false,
     "input": [
      "x = np.linspace(-2.5, 2.5, 5000)"
     ],
     "language": "python",
     "outputs": [],
     "prompt_number": 28
    },
    {
     "cell_type": "code",
     "collapsed": false,
     "input": [
      "# plot(x, ycircle(x), label=\"circle\")\n",
      "# plot(x, yparabol(x), label=\"parabola\")\n",
      "for th in -75, -60, -45, -30, -15, 0, 15, 30, 45, 60, 75:\n",
      "    plot(x, yconic_th(x, th), label=\"conic {}\".format(th))\n",
      "axis(\"equal\")\n",
      "grid(alpha=0.3)\n",
      "xlabel(\"x\")\n",
      "ylabel(\"y\")\n",
      "legend(loc=\"upper center\")"
     ],
     "language": "python",
     "outputs": [],
     "prompt_number": "*"
    },
    {
     "cell_type": "code",
     "collapsed": false,
     "input": [],
     "language": "python",
     "outputs": []
    }
   ]
  }
 ]
}