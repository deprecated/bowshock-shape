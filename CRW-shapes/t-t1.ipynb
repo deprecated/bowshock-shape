{
 "metadata": {
  "name": "t-t1"
 }, 
 "nbformat": 2, 
 "worksheets": [
  {
   "cells": [
    {
     "cell_type": "markdown", 
     "source": [
      "Plot $\\theta_1\\cot\\theta_1$ for isotropic and proplyd case"
     ]
    }, 
    {
     "cell_type": "code", 
     "collapsed": false, 
     "input": [
      "from scipy import integrate", 
      "import numpy as np", 
      "import matplotlib.pyplot as plt", 
      "import matplotlib", 
      "%matplotlib inline"
     ], 
     "language": "python", 
     "outputs": [
      {
       "output_type": "stream", 
       "stream": "stderr", 
       "text": [
        "ERROR: Magic function `matplotlib` not found."
       ]
      }
     ], 
     "prompt_number": 15
    }, 
    {
     "cell_type": "code", 
     "collapsed": true, 
     "input": [
      "f = lambda x: np.sqrt(np.cos(x))*np.sin(x)**2", 
      "theta = np.linspace(0,0.5*np.pi)", 
      "I= []"
     ], 
     "language": "python", 
     "outputs": [], 
     "prompt_number": 8
    }, 
    {
     "cell_type": "markdown", 
     "source": [
      "Do the numeric integral"
     ]
    }, 
    {
     "cell_type": "code", 
     "collapsed": false, 
     "input": [
      "for t in theta:", 
      "    i,e = integrate.quad(f,0,t)", 
      "    I.append(i)", 
      "I = np.array(I)    "
     ], 
     "language": "python", 
     "outputs": [], 
     "prompt_number": 9
    }, 
    {
     "cell_type": "code", 
     "collapsed": true, 
     "input": [
      "beta = np.array([0.001,0.005,0.01])"
     ], 
     "language": "python", 
     "outputs": [], 
     "prompt_number": 10
    }, 
    {
     "cell_type": "code", 
     "collapsed": false, 
     "input": [
      "plt.grid()", 
      "plt.xlabel(r\"$\\theta$ (deg)\")", 
      "plt.ylabel(r\"$\\theta_1\\cot\\theta_1$\");"
     ], 
     "language": "python", 
     "outputs": [], 
     "prompt_number": 14
    }, 
    {
     "cell_type": "markdown", 
     "source": [
      "Plot the curves"
     ]
    }, 
    {
     "cell_type": "code", 
     "collapsed": false, 
     "input": [
      "for b in beta:", 
      "    P=2*b*I/np.tan(theta)-0.8*b*(1-np.cos(theta)**2.5)", 
      "    iso = b*(theta/np.tan(theta)-1)", 
      "    plt.plot(np.degrees(theta),iso,\"b--\",label=r\"isotropic, $\\beta={}$\".format(b))", 
      "    plt.plot(np.degrees(theta),P,\"g-\",label=r\"proplyd, $\\beta={}$\".format(b))", 
      "plt.legend(loc=\"best\",prop=dict(size=\"x-small\"));    "
     ], 
     "language": "python", 
     "outputs": [], 
     "prompt_number": 13
    }
   ]
  }
 ]
}