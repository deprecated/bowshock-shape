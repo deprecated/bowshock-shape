{
 "metadata": {
  "name": "",
  "signature": "sha256:463fe02df52827ef088c8d535fd1dc6cb07d2f1b25d65bfa1f703c98ec416de1"
 },
 "nbformat": 3,
 "nbformat_minor": 0,
 "worksheets": [
  {
   "cells": [
    {
     "cell_type": "heading",
     "level": 1,
     "metadata": {},
     "source": [
      "Model external shell width in $\\beta=1$ case"
     ]
    },
    {
     "cell_type": "code",
     "collapsed": false,
     "input": [
      "import numpy as np\n",
      "import matplotlib.pyplot as plt\n",
      "%matplotlib inline"
     ],
     "language": "python",
     "metadata": {},
     "outputs": [],
     "prompt_number": 1
    },
    {
     "cell_type": "markdown",
     "metadata": {},
     "source": [
      "Shell parameters for $\\beta=1$, note that in this case $\\theta_1\\equiv\\theta$"
     ]
    },
    {
     "cell_type": "markdown",
     "metadata": {},
     "source": [
      "Time to test the result of the outer shell, assuming that it is a strong, adiabatic shock"
     ]
    },
    {
     "cell_type": "markdown",
     "metadata": {},
     "source": [
      "we should do it step by step"
     ]
    },
    {
     "cell_type": "markdown",
     "metadata": {},
     "source": [
      "for the outer shell:"
     ]
    },
    {
     "cell_type": "code",
     "collapsed": false,
     "input": [
      "F = 8*(1-np.cos(theta))**2/(3*np.tan(theta)*(theta-0.5*np.sin(2*theta)))\n",
      "M = 100\n",
      "xi= 1+1./(4*M**2)\n",
      "LAMBDA = 3*F/(16*xi*np.cos(theta)**2)\n",
      "X = (1.+2*LAMBDA)/LAMBDA\n",
      "disc = np.sqrt(X**2-4.)\n",
      "HHp = 0.5*(X+disc)\n",
      "HHm = 0.5*(X-disc)"
     ],
     "language": "python",
     "metadata": {},
     "outputs": [],
     "prompt_number": 50
    },
    {
     "cell_type": "markdown",
     "metadata": {},
     "source": [
      "for the inner shell:"
     ]
    },
    {
     "cell_type": "code",
     "collapsed": false,
     "input": [
      "M0 = 3.\n",
      "H0 = 3./(4*M0**2+7.)\n",
      "n = 3.5*(4*M0**2+1)/(4*M0**2+19)\n",
      "H = H0*np.cos(theta)**(-n+1)"
     ],
     "language": "python",
     "metadata": {},
     "outputs": [],
     "prompt_number": 34
    },
    {
     "cell_type": "code",
     "collapsed": false,
     "input": [
      "D = 1\n",
      "z0 = 0.5\n",
      "z1=0.5\n",
      "theta=np.linspace(-0.45*np.pi,0.45*np.pi)\n",
      "r=z0*np.tan(theta)\n",
      "z = z0*np.ones_like(r)\n",
      "plt.plot(z,r)\n",
      "plt.xlim(-0.1,1.1)\n",
      "plt.plot(z+z0*HHm,r,\"r--\")\n",
      "plt.plot(z-z0*H,r,\"g--\")\n",
      "plt.plot([0],[0],'b*',[1],[0],'b*')"
     ],
     "language": "python",
     "metadata": {},
     "outputs": [
      {
       "metadata": {},
       "output_type": "pyout",
       "prompt_number": 51,
       "text": [
        "[<matplotlib.lines.Line2D at 0x7f4c54802a10>,\n",
        " <matplotlib.lines.Line2D at 0x7f4c5480c690>]"
       ]
      },
      {
       "metadata": {},
       "output_type": "display_data",
       "png": "[encoded data removed]",
       "text": [
        "<matplotlib.figure.Figure at 0x7f4c54eeae10>"
       ]
      }
     ],
     "prompt_number": 51
    },
    {
     "cell_type": "markdown",
     "metadata": {},
     "source": [
      "This looks like an unsuccesful attempt so I didn't bother to write the mathematical steps to get this result."
     ]
    },
    {
     "cell_type": "code",
     "collapsed": false,
     "input": [],
     "language": "python",
     "metadata": {},
     "outputs": []
    }
   ],
   "metadata": {}
  }
 ]
}