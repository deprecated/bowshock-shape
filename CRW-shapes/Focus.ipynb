{
 "metadata": {
  "name": ""
 },
 "nbformat": 3,
 "nbformat_minor": 0,
 "worksheets": [
  {
   "cells": [
    {
     "cell_type": "heading",
     "level": 1,
     "metadata": {},
     "source": [
      "Focus position as a function of $\\theta_c$, inclination and $\\beta$"
     ]
    },
    {
     "cell_type": "markdown",
     "metadata": {},
     "source": [
      "The idea is to plot the focus position as a function of inclination for different values of $\\theta_c$ and a fixed beta value"
     ]
    },
    {
     "cell_type": "code",
     "collapsed": false,
     "input": [
      "import numpy as np\n",
      "import matplotlib\n",
      "import matplotlib.pyplot as plt\n",
      "import json\n",
      "%matplotlib inline"
     ],
     "language": "python",
     "metadata": {},
     "outputs": [],
     "prompt_number": 13
    },
    {
     "cell_type": "markdown",
     "metadata": {},
     "source": [
      "First:\n",
      "The independent variable is the inclination. In one graph we will plot the focus position curves for some $\\theta_c$ values. And four graphs with different $\\beta$ value. Also there is another variables: the shock model and the Mach number of the inner wind (fixed to 3.0). "
     ]
    },
    {
     "cell_type": "code",
     "collapsed": false,
     "input": [
      "inc = np.linspace(0.0,np.pi/3.0)\n",
      "beta = np.array([0.001,0.005,0.01,0.05])\n",
      "thc = np.radians(np.array([15.0,30.0,45.0]))\n",
      "col = [\"r\",\"g\",\"b\"]\n",
      "f=plt.figure()\n",
      "m = 3.0\n",
      "H0 = 3./(4*m**2+7)\n",
      "R0  =np.sqrt(beta)/(1+np.sqrt(beta))-H0"
     ],
     "language": "python",
     "metadata": {},
     "outputs": [
      {
       "metadata": {},
       "output_type": "display_data",
       "text": [
        "<matplotlib.figure.Figure at 0xcaf5668>"
       ]
      }
     ],
     "prompt_number": 14
    },
    {
     "cell_type": "markdown",
     "metadata": {},
     "source": [
      "Import the json files with shells that match with the propposed $\\beta$ values to get the curvature radii"
     ]
    },
    {
     "cell_type": "code",
     "collapsed": false,
     "input": [
      "ad1= json.load(open(\"inner-isotropic-beta-0.001-m-3.0-arcdata.json\"))\n",
      "ad2= json.load(open(\"inner-isotropic-beta-0.005-m-3.0-arcdata.json\"))\n",
      "ad3= json.load(open(\"inner-isotropic-beta-0.01-m-3.0-arcdata.json\"))\n",
      "ad4= json.load(open(\"inner-isotropic-beta-0.05-m-3.0-arcdata.json\"))"
     ],
     "language": "python",
     "metadata": {},
     "outputs": [],
     "prompt_number": 15
    },
    {
     "cell_type": "code",
     "collapsed": false,
     "input": [
      "Rc = np.array([ad1[\"inner\"][\"0.0\"][\"Rc\"],ad2[\"inner\"][\"0.0\"][\"Rc\"],ad3[\"inner\"][\"0.0\"][\"Rc\"],ad4[\"inner\"][\"0.0\"][\"Rc\"]])\n",
      "A=Rc/R0"
     ],
     "language": "python",
     "metadata": {},
     "outputs": [],
     "prompt_number": 16
    },
    {
     "cell_type": "markdown",
     "metadata": {},
     "source": [
      "The focus position has been normalized with $R_0$"
     ]
    },
    {
     "cell_type": "code",
     "collapsed": false,
     "input": [
      "for j,b in enumerate(beta):\n",
      "    ax = f.add_subplot(2,2,j)\n",
      "    for t,c in zip(thc,col):\n",
      "        cot = 1./np.tan(t)\n",
      "        fe = (1-A[j]*cot**2+A[j]*cot*np.sqrt(cot**2-1))*np.cos(inc)\n",
      "        fh = (-1-A[j]*cot**2+A[j]*cot*np.sqrt(cot**2+1))*np.cos(inc)\n",
      "        ax.plot(np.degrees(inc),R0[j]*fe,c+\"-\",label=r\"$\\theta_c={}$\".format(np.degrees(t)))\n",
      "        ax.plot(np.degrees(inc),R0[j]*fh,c+\"--\",label=r\"$\\theta_c=-{}$\".format(np.degrees(t)))\n",
      "    ax.set_title(r\"Focus position $\\beta={}$\".format(b))\n",
      "    ax.set_xlabel(\"i (deg)\")\n",
      "    ax.set_ylabel(\"focus position (normalized with D)\")\n",
      "f.set_size_inches(15,15);      "
     ],
     "language": "python",
     "metadata": {},
     "outputs": [],
     "prompt_number": 17
    },
    {
     "cell_type": "code",
     "collapsed": false,
     "input": [],
     "language": "python",
     "metadata": {},
     "outputs": [],
     "prompt_number": 17
    }
   ],
   "metadata": {}
  }
 ]
}